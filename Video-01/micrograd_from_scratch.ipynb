{
 "cells": [
  {
   "cell_type": "code",
   "execution_count": 33,
   "metadata": {},
   "outputs": [],
   "source": [
    "import math\n",
    "import numpy as np \n",
    "import matplotlib.pyplot as plt\n",
    "%matplotlib inline"
   ]
  },
  {
   "cell_type": "code",
   "execution_count": 34,
   "metadata": {},
   "outputs": [],
   "source": [
    "def f(x):\n",
    "    return 3*x**2 - 4*x +5\n"
   ]
  },
  {
   "cell_type": "code",
   "execution_count": 35,
   "metadata": {},
   "outputs": [
    {
     "data": {
      "text/plain": [
       "20.0"
      ]
     },
     "execution_count": 35,
     "metadata": {},
     "output_type": "execute_result"
    }
   ],
   "source": [
    "f(3.0)"
   ]
  },
  {
   "cell_type": "code",
   "execution_count": 36,
   "metadata": {},
   "outputs": [
    {
     "data": {
      "text/plain": [
       "[<matplotlib.lines.Line2D at 0x14bc3a058e0>]"
      ]
     },
     "execution_count": 36,
     "metadata": {},
     "output_type": "execute_result"
    },
    {
     "data": {
      "image/png": "[encoded data removed]",
      "text/plain": [
       "<Figure size 640x480 with 1 Axes>"
      ]
     },
     "metadata": {},
     "output_type": "display_data"
    }
   ],
   "source": [
    "xs = np.arange(-5, 5, 0.25)\n",
    "ys = f(xs)\n",
    "plt.plot(xs , ys)"
   ]
  },
  {
   "cell_type": "markdown",
   "metadata": {},
   "source": [
    "If we try to evaluate the derivative , we are not going to use the mathematical derivation of finding derivative. Instead ,\n",
    "<!-- we are going to use the main definition of derivative which is derivative as a limit ![alt text](image.png) -->"
   ]
  },
  {
   "cell_type": "code",
   "execution_count": 37,
   "metadata": {},
   "outputs": [
    {
     "data": {
      "text/plain": [
       "2.999378523327323e-06"
      ]
     },
     "execution_count": 37,
     "metadata": {},
     "output_type": "execute_result"
    }
   ],
   "source": [
    "h = 0.000001\n",
    "x = 2/3\n",
    "((f(x+h)-f(x))/h)"
   ]
  },
  {
   "cell_type": "code",
   "execution_count": 38,
   "metadata": {},
   "outputs": [
    {
     "name": "stdout",
     "output_type": "stream",
     "text": [
      "4.0\n"
     ]
    }
   ],
   "source": [
    "# les get more complex\n",
    "a = 2.0\n",
    "b = -3.0\n",
    "c = 10.0\n",
    "d = a*b+c\n",
    "print(d)"
   ]
  },
  {
   "cell_type": "code",
   "execution_count": 39,
   "metadata": {},
   "outputs": [
    {
     "name": "stdout",
     "output_type": "stream",
     "text": [
      "d1 4.0\n",
      "d2 3.999699999999999\n",
      "Slope -3.000000000010772\n"
     ]
    }
   ],
   "source": [
    "h = 0.0001\n",
    "\n",
    "#inputs\n",
    "a = 2.0\n",
    "b = -3.0\n",
    "c = 10.0\n",
    "\n",
    "d1 = a*b+c    #f(a, b, c)\n",
    "a+=h\n",
    "d2 = a*b+c    #f(a+h , b ,c)\n",
    "print(\"d1\" , d1)\n",
    "print(\"d2\" , d2) \n",
    "print(\"Slope\" , (d2-d1)/h)"
   ]
  },
  {
   "cell_type": "markdown",
   "metadata": {},
   "source": [
    "We'll be implementing a value-object type data strucuture with the idea of the main definition of differentiation to implement this"
   ]
  },
  {
   "cell_type": "code",
   "execution_count": 76,
   "metadata": {},
   "outputs": [
    {
     "data": {
      "text/plain": [
       "value(data=-8.0)"
      ]
     },
     "execution_count": 76,
     "metadata": {},
     "output_type": "execute_result"
    }
   ],
   "source": [
    "class Value:\n",
    "    def __init__(self, data, _children = () , _op = '' , label = '' ):\n",
    "        self.data = data\n",
    "        self._prev = set(_children)\n",
    "        self.grad = 0.0\n",
    "        self._backward = lambda: None #by default it is a empty function (for leaf node , there is nothing to do )\n",
    "        self._op = _op\n",
    "        self.label = label\n",
    "    def __repr__(self):\n",
    "        return f\"value(data={self.data})\"\n",
    "    \n",
    "    def __add__(self , other):\n",
    "        out = Value(self.data+other.data , (self , other) , '+')\n",
    "        #to automate backpropagation , we need to make the _backward function in such a way so that\n",
    "        #it takes the gradient of the outs grad  and propagate it to the inputs grad(meaning - self and other)\n",
    "        def _backward():\n",
    "            self.grad += 1.0*out.grad     #chain rule-localD * GlobalD(out derivative) #in the form - x1w1 + x2w2 bbecause it is for addition\n",
    "            other.grad += 1.0*out.grad    #chain rule - same \n",
    "        out._backward = _backward    #( take the global derivative, which is with respect to the current expression and propagate that gradient)\n",
    "\n",
    "        return out\n",
    "    \n",
    "    def __mul__(self , other):\n",
    "        out = Value(self.data * other.data , (self , other) , '*')\n",
    "        def _backward():\n",
    "            self.grad += other.data*out.grad # in the form - x1w1*x2w2\n",
    "            other.grad += self.data*out.grad #same but opposite in the case of local derivative \n",
    "        out._backward = _backward\n",
    "        return out\n",
    "    \n",
    "    def tanh(self):\n",
    "        x = self.data\n",
    "        t = (math.exp(2*x) - 1)/(math.exp(2*x) + 1)\n",
    "        out = Value(t , (self , ) , 'tanh')\n",
    "        def _backward() : \n",
    "            self.grad += (1-t**2)*out.grad    # local derivative - d(tanh(x)) = 1- (tanh(x))^2 , in this case = 1 - t**2  \n",
    "        out._backward =  _backward \n",
    "        \n",
    "        return out\n",
    "    def backward(self):\n",
    "    \n",
    "        topo = []\n",
    "        visited = set()\n",
    "        def build_topo(v):\n",
    "            if v not in visited:\n",
    "                visited.add(v)\n",
    "                for child in v._prev:\n",
    "                    build_topo(child)\n",
    "                topo.append(v)\n",
    "        build_topo(self)\n",
    "        \n",
    "        self.grad = 1.0\n",
    "        for node in reversed(topo):\n",
    "            node._backward()\n",
    "\n",
    "      \n",
    "a = Value(2.0 , label = 'a')\n",
    "b = Value(-3.0 , label = 'b')\n",
    "c = Value(10.0 , label = 'c')\n",
    "e = a*b ; e.label = 'e' \n",
    "d = e + c ; d.label = 'd'\n",
    "f = Value(-2.0 , label='f')\n",
    "L = d*f  ; L.label = 'L'\n",
    "L \n",
    "\n",
    "\n",
    "\n",
    "        "
   ]
  },
  {
   "cell_type": "code",
   "execution_count": 41,
   "metadata": {},
   "outputs": [
    {
     "name": "stdout",
     "output_type": "stream",
     "text": [
      "Requirement already satisfied: graphviz in d:\\anaconda3\\lib\\site-packages (0.20.3)\n",
      "Note: you may need to restart the kernel to use updated packages.\n"
     ]
    }
   ],
   "source": [
    "%pip install graphviz"
   ]
  },
  {
   "cell_type": "code",
   "execution_count": 42,
   "metadata": {},
   "outputs": [],
   "source": [
    "#This code is just for visualization purpose \n",
    "\n",
    "\n",
    "from graphviz import Digraph\n",
    "\n",
    "def trace(root):\n",
    "  # builds a set of all nodes and edges in a graph\n",
    "  nodes, edges = set(), set()\n",
    "  def build(v):\n",
    "    if v not in nodes:\n",
    "      nodes.add(v)\n",
    "      for child in v._prev:\n",
    "        edges.add((child, v))\n",
    "        build(child)\n",
    "  build(root)\n",
    "  return nodes, edges\n",
    "\n",
    "def draw_dot(root):\n",
    "  dot = Digraph(format='svg', graph_attr={'rankdir': 'LR'}) # LR = left to right\n",
    "  \n",
    "  nodes, edges = trace(root)\n",
    "  for n in nodes:\n",
    "    uid = str(id(n))\n",
    "    # for any value in the graph, create a rectangular ('record') node for it\n",
    "    dot.node(name = uid, label = \"{ %s | data %.4f | grad %.4f }\" % (n.label, n.data , n.grad), shape='record')\n",
    "    if n._op:\n",
    "      # if this value is a result of some operation, create an op node for it\n",
    "      dot.node(name = uid + n._op, label = n._op)\n",
    "      # and connect this node to it\n",
    "      dot.edge(uid + n._op, uid)\n",
    "\n",
    "  for n1, n2 in edges:\n",
    "    # connect n1 to the op node of n2\n",
    "    dot.edge(str(id(n1)), str(id(n2)) + n2._op)\n",
    "\n",
    "  return dot"
   ]
  },
  {
   "cell_type": "code",
   "execution_count": 43,
   "metadata": {},
   "outputs": [
    {
     "data": {
      "image/svg+xml": [
       "<?xml version=\"1.0\" encoding=\"UTF-8\" standalone=\"no\"?>\n",
       "<!DOCTYPE svg PUBLIC \"-//W3C//DTD SVG 1.1//EN\"\n",
       " \"http://www.w3.org/Graphics/SVG/1.1/DTD/svg11.dtd\">\n",
       "<!-- Generated by graphviz version 2.50.0 (0)\n",
       " -->\n",
       "<!-- Pages: 1 -->\n",
       "<svg width=\"1148pt\" height=\"156pt\"\n",
       " viewBox=\"0.00 0.00 1148.00 156.00\" xmlns=\"http://www.w3.org/2000/svg\" xmlns:xlink=\"http://www.w3.org/1999/xlink\">\n",
       "<g id=\"graph0\" class=\"graph\" transform=\"scale(1 1) rotate(0) translate(4 152)\">\n",
       "<polygon fill=\"white\" stroke=\"transparent\" points=\"-4,4 -4,-152 1144,-152 1144,4 -4,4\"/>\n",
       "<!-- 1424915077680 -->\n",
       "<g id=\"node1\" class=\"node\">\n",
       "<title>1424915077680</title>\n",
       "<polygon fill=\"none\" stroke=\"black\" points=\"0,-111.5 0,-147.5 190,-147.5 190,-111.5 0,-111.5\"/>\n",
       "<text text-anchor=\"middle\" x=\"11.5\" y=\"-125.8\" font-family=\"Times New Roman,serif\" font-size=\"14.00\">b</text>\n",
       "<polyline fill=\"none\" stroke=\"black\" points=\"23,-111.5 23,-147.5 \"/>\n",
       "<text text-anchor=\"middle\" x=\"65.5\" y=\"-125.8\" font-family=\"Times New Roman,serif\" font-size=\"14.00\">data &#45;3.0000</text>\n",
       "<polyline fill=\"none\" stroke=\"black\" points=\"108,-111.5 108,-147.5 \"/>\n",
       "<text text-anchor=\"middle\" x=\"149\" y=\"-125.8\" font-family=\"Times New Roman,serif\" font-size=\"14.00\">grad 0.0000</text>\n",
       "</g>\n",
       "<!-- 1424915078784* -->\n",
       "<g id=\"node4\" class=\"node\">\n",
       "<title>1424915078784*</title>\n",
       "<ellipse fill=\"none\" stroke=\"black\" cx=\"253\" cy=\"-101.5\" rx=\"27\" ry=\"18\"/>\n",
       "<text text-anchor=\"middle\" x=\"253\" y=\"-97.8\" font-family=\"Times New Roman,serif\" font-size=\"14.00\">*</text>\n",
       "</g>\n",
       "<!-- 1424915077680&#45;&gt;1424915078784* -->\n",
       "<g id=\"edge4\" class=\"edge\">\n",
       "<title>1424915077680&#45;&gt;1424915078784*</title>\n",
       "<path fill=\"none\" stroke=\"black\" d=\"M190.34,-112.57C199.62,-110.9 208.58,-109.29 216.66,-107.84\"/>\n",
       "<polygon fill=\"black\" stroke=\"black\" points=\"217.49,-111.25 226.72,-106.04 216.26,-104.36 217.49,-111.25\"/>\n",
       "</g>\n",
       "<!-- 1424915076672 -->\n",
       "<g id=\"node2\" class=\"node\">\n",
       "<title>1424915076672</title>\n",
       "<polygon fill=\"none\" stroke=\"black\" points=\"2.5,-56.5 2.5,-92.5 187.5,-92.5 187.5,-56.5 2.5,-56.5\"/>\n",
       "<text text-anchor=\"middle\" x=\"14\" y=\"-70.8\" font-family=\"Times New Roman,serif\" font-size=\"14.00\">a</text>\n",
       "<polyline fill=\"none\" stroke=\"black\" points=\"25.5,-56.5 25.5,-92.5 \"/>\n",
       "<text text-anchor=\"middle\" x=\"65.5\" y=\"-70.8\" font-family=\"Times New Roman,serif\" font-size=\"14.00\">data 2.0000</text>\n",
       "<polyline fill=\"none\" stroke=\"black\" points=\"105.5,-56.5 105.5,-92.5 \"/>\n",
       "<text text-anchor=\"middle\" x=\"146.5\" y=\"-70.8\" font-family=\"Times New Roman,serif\" font-size=\"14.00\">grad 0.0000</text>\n",
       "</g>\n",
       "<!-- 1424915076672&#45;&gt;1424915078784* -->\n",
       "<g id=\"edge5\" class=\"edge\">\n",
       "<title>1424915076672&#45;&gt;1424915078784*</title>\n",
       "<path fill=\"none\" stroke=\"black\" d=\"M187.65,-90.36C197.94,-92.14 207.91,-93.87 216.81,-95.41\"/>\n",
       "<polygon fill=\"black\" stroke=\"black\" points=\"216.26,-98.87 226.71,-97.12 217.45,-91.97 216.26,-98.87\"/>\n",
       "</g>\n",
       "<!-- 1424915078784 -->\n",
       "<g id=\"node3\" class=\"node\">\n",
       "<title>1424915078784</title>\n",
       "<polygon fill=\"none\" stroke=\"black\" points=\"317,-83.5 317,-119.5 507,-119.5 507,-83.5 317,-83.5\"/>\n",
       "<text text-anchor=\"middle\" x=\"328.5\" y=\"-97.8\" font-family=\"Times New Roman,serif\" font-size=\"14.00\">e</text>\n",
       "<polyline fill=\"none\" stroke=\"black\" points=\"340,-83.5 340,-119.5 \"/>\n",
       "<text text-anchor=\"middle\" x=\"382.5\" y=\"-97.8\" font-family=\"Times New Roman,serif\" font-size=\"14.00\">data &#45;6.0000</text>\n",
       "<polyline fill=\"none\" stroke=\"black\" points=\"425,-83.5 425,-119.5 \"/>\n",
       "<text text-anchor=\"middle\" x=\"466\" y=\"-97.8\" font-family=\"Times New Roman,serif\" font-size=\"14.00\">grad 0.0000</text>\n",
       "</g>\n",
       "<!-- 1424914929456+ -->\n",
       "<g id=\"node7\" class=\"node\">\n",
       "<title>1424914929456+</title>\n",
       "<ellipse fill=\"none\" stroke=\"black\" cx=\"571\" cy=\"-73.5\" rx=\"27\" ry=\"18\"/>\n",
       "<text text-anchor=\"middle\" x=\"571\" y=\"-69.8\" font-family=\"Times New Roman,serif\" font-size=\"14.00\">+</text>\n",
       "</g>\n",
       "<!-- 1424915078784&#45;&gt;1424914929456+ -->\n",
       "<g id=\"edge8\" class=\"edge\">\n",
       "<title>1424915078784&#45;&gt;1424914929456+</title>\n",
       "<path fill=\"none\" stroke=\"black\" d=\"M507.05,-84.73C516.89,-82.97 526.39,-81.28 534.9,-79.76\"/>\n",
       "<polygon fill=\"black\" stroke=\"black\" points=\"535.52,-83.2 544.75,-78 534.29,-76.31 535.52,-83.2\"/>\n",
       "</g>\n",
       "<!-- 1424915078784*&#45;&gt;1424915078784 -->\n",
       "<g id=\"edge1\" class=\"edge\">\n",
       "<title>1424915078784*&#45;&gt;1424915078784</title>\n",
       "<path fill=\"none\" stroke=\"black\" d=\"M280.28,-101.5C288.05,-101.5 297.08,-101.5 306.68,-101.5\"/>\n",
       "<polygon fill=\"black\" stroke=\"black\" points=\"306.88,-105 316.88,-101.5 306.88,-98 306.88,-105\"/>\n",
       "</g>\n",
       "<!-- 1424915075808 -->\n",
       "<g id=\"node5\" class=\"node\">\n",
       "<title>1424915075808</title>\n",
       "<polygon fill=\"none\" stroke=\"black\" points=\"316,-28.5 316,-64.5 508,-64.5 508,-28.5 316,-28.5\"/>\n",
       "<text text-anchor=\"middle\" x=\"327.5\" y=\"-42.8\" font-family=\"Times New Roman,serif\" font-size=\"14.00\">c</text>\n",
       "<polyline fill=\"none\" stroke=\"black\" points=\"339,-28.5 339,-64.5 \"/>\n",
       "<text text-anchor=\"middle\" x=\"382.5\" y=\"-42.8\" font-family=\"Times New Roman,serif\" font-size=\"14.00\">data 10.0000</text>\n",
       "<polyline fill=\"none\" stroke=\"black\" points=\"426,-28.5 426,-64.5 \"/>\n",
       "<text text-anchor=\"middle\" x=\"467\" y=\"-42.8\" font-family=\"Times New Roman,serif\" font-size=\"14.00\">grad 0.0000</text>\n",
       "</g>\n",
       "<!-- 1424915075808&#45;&gt;1424914929456+ -->\n",
       "<g id=\"edge9\" class=\"edge\">\n",
       "<title>1424915075808&#45;&gt;1424914929456+</title>\n",
       "<path fill=\"none\" stroke=\"black\" d=\"M508.4,-62.91C517.69,-64.5 526.64,-66.04 534.71,-67.43\"/>\n",
       "<polygon fill=\"black\" stroke=\"black\" points=\"534.32,-70.91 544.76,-69.16 535.5,-64.02 534.32,-70.91\"/>\n",
       "</g>\n",
       "<!-- 1424914929456 -->\n",
       "<g id=\"node6\" class=\"node\">\n",
       "<title>1424914929456</title>\n",
       "<polygon fill=\"none\" stroke=\"black\" points=\"635.5,-55.5 635.5,-91.5 820.5,-91.5 820.5,-55.5 635.5,-55.5\"/>\n",
       "<text text-anchor=\"middle\" x=\"647\" y=\"-69.8\" font-family=\"Times New Roman,serif\" font-size=\"14.00\">d</text>\n",
       "<polyline fill=\"none\" stroke=\"black\" points=\"658.5,-55.5 658.5,-91.5 \"/>\n",
       "<text text-anchor=\"middle\" x=\"698.5\" y=\"-69.8\" font-family=\"Times New Roman,serif\" font-size=\"14.00\">data 4.0000</text>\n",
       "<polyline fill=\"none\" stroke=\"black\" points=\"738.5,-55.5 738.5,-91.5 \"/>\n",
       "<text text-anchor=\"middle\" x=\"779.5\" y=\"-69.8\" font-family=\"Times New Roman,serif\" font-size=\"14.00\">grad 0.0000</text>\n",
       "</g>\n",
       "<!-- 1424916249536* -->\n",
       "<g id=\"node10\" class=\"node\">\n",
       "<title>1424916249536*</title>\n",
       "<ellipse fill=\"none\" stroke=\"black\" cx=\"885\" cy=\"-45.5\" rx=\"27\" ry=\"18\"/>\n",
       "<text text-anchor=\"middle\" x=\"885\" y=\"-41.8\" font-family=\"Times New Roman,serif\" font-size=\"14.00\">*</text>\n",
       "</g>\n",
       "<!-- 1424914929456&#45;&gt;1424916249536* -->\n",
       "<g id=\"edge6\" class=\"edge\">\n",
       "<title>1424914929456&#45;&gt;1424916249536*</title>\n",
       "<path fill=\"none\" stroke=\"black\" d=\"M820.51,-56.97C830.48,-55.17 840.13,-53.42 848.77,-51.86\"/>\n",
       "<polygon fill=\"black\" stroke=\"black\" points=\"849.55,-55.28 858.77,-50.06 848.3,-48.39 849.55,-55.28\"/>\n",
       "</g>\n",
       "<!-- 1424914929456+&#45;&gt;1424914929456 -->\n",
       "<g id=\"edge2\" class=\"edge\">\n",
       "<title>1424914929456+&#45;&gt;1424914929456</title>\n",
       "<path fill=\"none\" stroke=\"black\" d=\"M598.29,-73.5C606.26,-73.5 615.54,-73.5 625.39,-73.5\"/>\n",
       "<polygon fill=\"black\" stroke=\"black\" points=\"625.41,-77 635.41,-73.5 625.41,-70 625.41,-77\"/>\n",
       "</g>\n",
       "<!-- 1424914925472 -->\n",
       "<g id=\"node8\" class=\"node\">\n",
       "<title>1424914925472</title>\n",
       "<polygon fill=\"none\" stroke=\"black\" points=\"634,-0.5 634,-36.5 822,-36.5 822,-0.5 634,-0.5\"/>\n",
       "<text text-anchor=\"middle\" x=\"644.5\" y=\"-14.8\" font-family=\"Times New Roman,serif\" font-size=\"14.00\">f</text>\n",
       "<polyline fill=\"none\" stroke=\"black\" points=\"655,-0.5 655,-36.5 \"/>\n",
       "<text text-anchor=\"middle\" x=\"697.5\" y=\"-14.8\" font-family=\"Times New Roman,serif\" font-size=\"14.00\">data &#45;2.0000</text>\n",
       "<polyline fill=\"none\" stroke=\"black\" points=\"740,-0.5 740,-36.5 \"/>\n",
       "<text text-anchor=\"middle\" x=\"781\" y=\"-14.8\" font-family=\"Times New Roman,serif\" font-size=\"14.00\">grad 0.0000</text>\n",
       "</g>\n",
       "<!-- 1424914925472&#45;&gt;1424916249536* -->\n",
       "<g id=\"edge7\" class=\"edge\">\n",
       "<title>1424914925472&#45;&gt;1424916249536*</title>\n",
       "<path fill=\"none\" stroke=\"black\" d=\"M822.29,-34.75C831.57,-36.37 840.52,-37.93 848.61,-39.33\"/>\n",
       "<polygon fill=\"black\" stroke=\"black\" points=\"848.22,-42.82 858.68,-41.09 849.42,-35.92 848.22,-42.82\"/>\n",
       "</g>\n",
       "<!-- 1424916249536 -->\n",
       "<g id=\"node9\" class=\"node\">\n",
       "<title>1424916249536</title>\n",
       "<polygon fill=\"none\" stroke=\"black\" points=\"948,-27.5 948,-63.5 1140,-63.5 1140,-27.5 948,-27.5\"/>\n",
       "<text text-anchor=\"middle\" x=\"960.5\" y=\"-41.8\" font-family=\"Times New Roman,serif\" font-size=\"14.00\">L</text>\n",
       "<polyline fill=\"none\" stroke=\"black\" points=\"973,-27.5 973,-63.5 \"/>\n",
       "<text text-anchor=\"middle\" x=\"1015.5\" y=\"-41.8\" font-family=\"Times New Roman,serif\" font-size=\"14.00\">data &#45;8.0000</text>\n",
       "<polyline fill=\"none\" stroke=\"black\" points=\"1058,-27.5 1058,-63.5 \"/>\n",
       "<text text-anchor=\"middle\" x=\"1099\" y=\"-41.8\" font-family=\"Times New Roman,serif\" font-size=\"14.00\">grad 0.0000</text>\n",
       "</g>\n",
       "<!-- 1424916249536*&#45;&gt;1424916249536 -->\n",
       "<g id=\"edge3\" class=\"edge\">\n",
       "<title>1424916249536*&#45;&gt;1424916249536</title>\n",
       "<path fill=\"none\" stroke=\"black\" d=\"M912.28,-45.5C919.78,-45.5 928.44,-45.5 937.67,-45.5\"/>\n",
       "<polygon fill=\"black\" stroke=\"black\" points=\"937.87,-49 947.87,-45.5 937.87,-42 937.87,-49\"/>\n",
       "</g>\n",
       "</g>\n",
       "</svg>\n"
      ],
      "text/plain": [
       "<graphviz.graphs.Digraph at 0x14bc3a059d0>"
      ]
     },
     "execution_count": 43,
     "metadata": {},
     "output_type": "execute_result"
    }
   ],
   "source": [
    "draw_dot(L)"
   ]
  },
  {
   "cell_type": "markdown",
   "metadata": {},
   "source": [
    "Recap of What we've done so far:\n",
    "- We've implemented a value-object type data structure\n",
    "- Then we Make a way to forward pass the values through the network and the output of the forward pass is the value of L = -8.0000 \n",
    "\n",
    "\n",
    "what we like to do next is - Backpropagation. Backpropagation is the process of finding the derivative of the loss function with respect to the weights and biases of the network.\n",
    "\n",
    "How we do this ? \n",
    "- We'll be starting at the end - L . Then we'll find the gradient or derivative  L with respect to all the intermediate values in the network.(like - dL/dL = 1 , dL/df , dL/dd , dL/dc ,  dL/de , dL/db , dL/da)\n",
    "\n",
    "\n",
    "-In the neural network setting , we'll be mainly interested in the derivative of the loss function L with respect to the weights and biases of the network.Some of the leaf nodes will be the weights and biases and some of these leaf nodes represent the data itself. We'll be interested in the derivative of the loss function with respect to these leaf nodes which represent the weights and biases  not the leaf nodes which represent the data itself.Because data is fixed but the weights and biases will be iterated on.\n",
    "\n",
    "\n",
    "- To store the gradient or derivative data of the neural network in each nodes , we'll introduce a new property called grad(intialized with zero , which means 'no effect' of this current node) in the value-object type data structure. This grad property will store the derivative of the loss function with respect to the value of the node.\n",
    "\n",
    "\n",
    "### So lets recap grad property of the value-object type data structure:\n",
    "- grad stored the gradient or the derivative of the loss function with respect to the value of the node. (like if the node is a , then grad stores dL/da)\n",
    "- grad is initialized with zero , which means 'no effect' of this current node to the loss function L if we change the value of this node.\n",
    "\n"
   ]
  },
  {
   "cell_type": "markdown",
   "metadata": {},
   "source": [
    "### So lets update the weights of each nodes by doing manual Backpropagation:(starting from the end - L)\n",
    "\n",
    "All you have to know is the local derivative of node and then backpropagate the gradient to the previous nodes.\n"
   ]
  },
  {
   "cell_type": "markdown",
   "metadata": {},
   "source": [
    "L = d*f \n",
    "lets do for d first , \n",
    "\n",
    "dL/dd = ? \n",
    "\n",
    "derivation : (it will be f , you know <:) from the calculus class )\n",
    "anyway lets derive it , \n",
    "(f(x+h) - f(x)) /h\n",
    "=>((d+h)*f - d*f)/h\n",
    "=>hf/h => f \n",
    " so : dL/dd = f\n",
    "\n",
    "also for f , \n",
    "dL/df = d\n",
    "\n",
    "\n",
    "\n",
    "\n",
    "Now lets do it for dL/dc and dl/de- \n",
    "dL/dc = ?\n",
    "you cannot directly derive it , you have to derive it by using the chain rule of differentiation\n",
    "dL/dc = dL/dd * dd/dc\n",
    "\n",
    "dd/dc = d/dc(c+e) = 1.0\n",
    "dL/dd = f = -2.0\n",
    "\n",
    "dL/dc = -2.0 * 1.0 = -2.0\n",
    "\n",
    "Now , dL/de = ?\n",
    "dL/de = dL/dd * dd/de\n",
    "\n",
    "dd/de = d/de(c+e) = 1.0\n",
    "dL/dd = f = -2.0\n",
    "\n",
    "dL/de = -2.0 * 1.0 = -2.0\n",
    "\n",
    "Now lets do it for dL/db and dL/da-\n",
    "dL/da = ?\n",
    "we know : dL/de = -2.0\n",
    "e = a * b \n",
    "so  de/da = b = -3.0\n",
    "dL/da = dL/de * de/da = -2.0 * -3.0 = 6.0\n",
    "\n",
    "Now , dL/db = ?\n",
    "we know : dL/de = -2.0\n",
    "e = a * b\n",
    "so de/db = a = 2.0\n",
    "dL/db = dL/de * de/db = -2.0 * 2.0 = -4.0\n",
    "\n",
    "\n"
   ]
  },
  {
   "cell_type": "code",
   "execution_count": 46,
   "metadata": {},
   "outputs": [],
   "source": [
    "#manually setting the gradient or derivatives \n",
    "\n",
    "\n",
    "# First for L \n",
    "L.grad = 1.0 \n",
    "\n",
    "# then backpropagate - \n",
    "f.grad = 4.0000\n",
    "d.grad = -2.0000\n",
    "\n",
    "# then backpropagate-\n",
    "# This is the main step , if you understand this , then you understand neural network basics \n",
    "# we need to find dL/dc and dL/de . But the problem is c or e is not directly manipulating L. It is manipulating through d and f . \n",
    "# So if you can somehow find the information about the impact of c on d and then d on L , that means you can find the impact of c directly on L.\n",
    "e.grad = -2.0000\n",
    "c.grad = -2.0000\n",
    "# One thing we can say is - '+' node simply distribute the gradient through its children or leaf nodes(like it does in c and e) \n",
    "\n",
    "#Then backpropagate- \n",
    "a.grad = 6.0000\n",
    "b.grad = -4.0000\n",
    "\n",
    "\n",
    "\n"
   ]
  },
  {
   "cell_type": "markdown",
   "metadata": {},
   "source": [
    "## Optimization:\n",
    "- Now lets see if we can nudge some leaf nodes and see if we can decrease the loss function L or if the value of loss function L goes up from -8.\n",
    "\n",
    "\n",
    "### lets nudge the leaf nodes by a small amount 0.01 and see if the loss function L goes up .\n"
   ]
  },
  {
   "cell_type": "code",
   "execution_count": 47,
   "metadata": {},
   "outputs": [
    {
     "name": "stdout",
     "output_type": "stream",
     "text": [
      "-7.286496\n"
     ]
    }
   ],
   "source": [
    "a.data+=0.01*a.grad\n",
    "b.data+=0.01*b.grad\n",
    "c.data+=0.01*c.grad\n",
    "f.data+=0.01*f.grad\n",
    "\n",
    "# lets do forward pass again\n",
    "\n",
    "e = a * b \n",
    "d = e + c \n",
    "L = d * f\n",
    "\n",
    "print(L.data)\n",
    "\n",
    "\n",
    "# the first output will be  : -7.286496\n"
   ]
  },
  {
   "cell_type": "markdown",
   "metadata": {},
   "source": [
    "- So we can say that the value of L can be manipulated through backpropagation. This is the first step of something called \"Optimization\" in the neural network setting. We'll be updating the weights and biases of the network in the direction of the negative gradient of the loss function L. This is the idea of the optimization algorithm called \"Gradient Descent\".\n",
    "\n",
    "\n",
    "- But why we are taking the leaf nodes only? Because we have some form of control over the leaf nodes. we can change and know for a fact that the loss function L will change.\n",
    "But we don't have control over the intermediate nodes."
   ]
  },
  {
   "cell_type": "markdown",
   "metadata": {},
   "source": [
    "we've set the value of grads manually , now lets check them using the definition of differentiation and see if we are correct or not.(h = 0.0001)\n",
    "You should check for each of the values - l , d , f , c , e , a , b"
   ]
  },
  {
   "cell_type": "code",
   "execution_count": 48,
   "metadata": {},
   "outputs": [
    {
     "name": "stdout",
     "output_type": "stream",
     "text": [
      "0.9999999999976694\n"
     ]
    }
   ],
   "source": [
    "def lol():   #this function is created so that we don't mess up the other local variable . Just for testing purpose\n",
    "    h = 0.0001\n",
    "\n",
    "    a = Value(2.0 , label = 'a')\n",
    "    b = Value(-3.0 , label = 'b')\n",
    "    c = Value(10.0 , label = 'c')\n",
    "    e = a*b ; e.label = 'e' \n",
    "    d = e + c ; d.label = 'd'\n",
    "    f = Value(-2.0 , label='f')\n",
    "    L = d*f  ; L.label = 'L'\n",
    "    L1 = L.data\n",
    "\n",
    "    a = Value(2.0 , label = 'a')\n",
    "    b = Value(-3.0 , label = 'b')\n",
    "    c = Value(10.0 , label = 'c')\n",
    "    e = a*b ; e.label = 'e' \n",
    "    d = e + c ; d.label = 'd'\n",
    "    f = Value(-2.0 , label='f')\n",
    "    L = d*f  ; L.label = 'L'\n",
    "    L2 = L.data+h\n",
    "    print((L2-L1)/h)\n",
    "lol()"
   ]
  },
  {
   "cell_type": "markdown",
   "metadata": {},
   "source": [
    "## Manual backpropagation Example : A Neuron or from a perspective of a perceptron\n",
    "\n",
    "![alt text](image-1.png)\n",
    "\n",
    "\n",
    "\n",
    "For activation function , we will use the tanh activation function. \n",
    "\n"
   ]
  },
  {
   "cell_type": "code",
   "execution_count": null,
   "metadata": {},
   "outputs": [],
   "source": [
    "plt.plot(np.arange(-5, 5 , 0.2),np.tanh(np.arange(-5, 5 , 0.2)))\n",
    "\n",
    "plt.grid() ; "
   ]
  },
  {
   "cell_type": "code",
   "execution_count": 79,
   "metadata": {},
   "outputs": [],
   "source": [
    "#lets create a simple network of two input and one output with an activation function tanh\n",
    "\n",
    "# inputs x1,x2\n",
    "x1 = Value(2.0, label='x1')\n",
    "x2 = Value(0.0, label='x2')\n",
    "# weights w1,w2\n",
    "w1 = Value(-3.0, label='w1')\n",
    "w2 = Value(1.0, label='w2')\n",
    "# bias of the neuron\n",
    "b = Value(6.8813735870195432, label='b')\n",
    "# x1*w1 + x2*w2 + b\n",
    "x1w1 = x1*w1; x1w1.label = 'x1*w1'\n",
    "x2w2 = x2*w2; x2w2.label = 'x2*w2'\n",
    "x1w1x2w2 = x1w1 + x2w2; x1w1x2w2.label = 'x1*w1 + x2*w2'\n",
    "n = x1w1x2w2 + b; n.label = 'n'\n",
    "o = n.tanh(); o.label = 'o'\n"
   ]
  },
  {
   "cell_type": "code",
   "execution_count": 82,
   "metadata": {},
   "outputs": [
    {
     "data": {
      "image/svg+xml": [
       "<?xml version=\"1.0\" encoding=\"UTF-8\" standalone=\"no\"?>\n",
       "<!DOCTYPE svg PUBLIC \"-//W3C//DTD SVG 1.1//EN\"\n",
       " \"http://www.w3.org/Graphics/SVG/1.1/DTD/svg11.dtd\">\n",
       "<!-- Generated by graphviz version 2.50.0 (0)\n",
       " -->\n",
       "<!-- Pages: 1 -->\n",
       "<svg width=\"1575pt\" height=\"210pt\"\n",
       " viewBox=\"0.00 0.00 1575.00 210.00\" xmlns=\"http://www.w3.org/2000/svg\" xmlns:xlink=\"http://www.w3.org/1999/xlink\">\n",
       "<g id=\"graph0\" class=\"graph\" transform=\"scale(1 1) rotate(0) translate(4 206)\">\n",
       "<polygon fill=\"white\" stroke=\"transparent\" points=\"-4,4 -4,-206 1571,-206 1571,4 -4,4\"/>\n",
       "<!-- 1424895175200 -->\n",
       "<g id=\"node1\" class=\"node\">\n",
       "<title>1424895175200</title>\n",
       "<polygon fill=\"none\" stroke=\"black\" points=\"2,-165.5 2,-201.5 198,-201.5 198,-165.5 2,-165.5\"/>\n",
       "<text text-anchor=\"middle\" x=\"17\" y=\"-179.8\" font-family=\"Times New Roman,serif\" font-size=\"14.00\">x1</text>\n",
       "<polyline fill=\"none\" stroke=\"black\" points=\"32,-165.5 32,-201.5 \"/>\n",
       "<text text-anchor=\"middle\" x=\"72\" y=\"-179.8\" font-family=\"Times New Roman,serif\" font-size=\"14.00\">data 2.0000</text>\n",
       "<polyline fill=\"none\" stroke=\"black\" points=\"112,-165.5 112,-201.5 \"/>\n",
       "<text text-anchor=\"middle\" x=\"155\" y=\"-179.8\" font-family=\"Times New Roman,serif\" font-size=\"14.00\">grad &#45;1.5000</text>\n",
       "</g>\n",
       "<!-- 1424915011376* -->\n",
       "<g id=\"node8\" class=\"node\">\n",
       "<title>1424915011376*</title>\n",
       "<ellipse fill=\"none\" stroke=\"black\" cx=\"263\" cy=\"-128.5\" rx=\"27\" ry=\"18\"/>\n",
       "<text text-anchor=\"middle\" x=\"263\" y=\"-124.8\" font-family=\"Times New Roman,serif\" font-size=\"14.00\">*</text>\n",
       "</g>\n",
       "<!-- 1424895175200&#45;&gt;1424915011376* -->\n",
       "<g id=\"edge13\" class=\"edge\">\n",
       "<title>1424895175200&#45;&gt;1424915011376*</title>\n",
       "<path fill=\"none\" stroke=\"black\" d=\"M172.53,-165.44C181.84,-162.67 191.2,-159.67 200,-156.5 210.53,-152.71 221.75,-147.9 231.72,-143.33\"/>\n",
       "<polygon fill=\"black\" stroke=\"black\" points=\"233.25,-146.48 240.82,-139.07 230.28,-140.14 233.25,-146.48\"/>\n",
       "</g>\n",
       "<!-- 1424914925184 -->\n",
       "<g id=\"node2\" class=\"node\">\n",
       "<title>1424914925184</title>\n",
       "<polygon fill=\"none\" stroke=\"black\" points=\"2.5,-55.5 2.5,-91.5 197.5,-91.5 197.5,-55.5 2.5,-55.5\"/>\n",
       "<text text-anchor=\"middle\" x=\"19\" y=\"-69.8\" font-family=\"Times New Roman,serif\" font-size=\"14.00\">w2</text>\n",
       "<polyline fill=\"none\" stroke=\"black\" points=\"35.5,-55.5 35.5,-91.5 \"/>\n",
       "<text text-anchor=\"middle\" x=\"75.5\" y=\"-69.8\" font-family=\"Times New Roman,serif\" font-size=\"14.00\">data 1.0000</text>\n",
       "<polyline fill=\"none\" stroke=\"black\" points=\"115.5,-55.5 115.5,-91.5 \"/>\n",
       "<text text-anchor=\"middle\" x=\"156.5\" y=\"-69.8\" font-family=\"Times New Roman,serif\" font-size=\"14.00\">grad 0.0000</text>\n",
       "</g>\n",
       "<!-- 1424915018960* -->\n",
       "<g id=\"node5\" class=\"node\">\n",
       "<title>1424915018960*</title>\n",
       "<ellipse fill=\"none\" stroke=\"black\" cx=\"263\" cy=\"-73.5\" rx=\"27\" ry=\"18\"/>\n",
       "<text text-anchor=\"middle\" x=\"263\" y=\"-69.8\" font-family=\"Times New Roman,serif\" font-size=\"14.00\">*</text>\n",
       "</g>\n",
       "<!-- 1424914925184&#45;&gt;1424915018960* -->\n",
       "<g id=\"edge11\" class=\"edge\">\n",
       "<title>1424914925184&#45;&gt;1424915018960*</title>\n",
       "<path fill=\"none\" stroke=\"black\" d=\"M197.91,-73.5C207.65,-73.5 217.05,-73.5 225.52,-73.5\"/>\n",
       "<polygon fill=\"black\" stroke=\"black\" points=\"225.7,-77 235.7,-73.5 225.7,-70 225.7,-77\"/>\n",
       "</g>\n",
       "<!-- 1424914938816 -->\n",
       "<g id=\"node3\" class=\"node\">\n",
       "<title>1424914938816</title>\n",
       "<polygon fill=\"none\" stroke=\"black\" points=\"0,-110.5 0,-146.5 200,-146.5 200,-110.5 0,-110.5\"/>\n",
       "<text text-anchor=\"middle\" x=\"16.5\" y=\"-124.8\" font-family=\"Times New Roman,serif\" font-size=\"14.00\">w1</text>\n",
       "<polyline fill=\"none\" stroke=\"black\" points=\"33,-110.5 33,-146.5 \"/>\n",
       "<text text-anchor=\"middle\" x=\"75.5\" y=\"-124.8\" font-family=\"Times New Roman,serif\" font-size=\"14.00\">data &#45;3.0000</text>\n",
       "<polyline fill=\"none\" stroke=\"black\" points=\"118,-110.5 118,-146.5 \"/>\n",
       "<text text-anchor=\"middle\" x=\"159\" y=\"-124.8\" font-family=\"Times New Roman,serif\" font-size=\"14.00\">grad 1.0000</text>\n",
       "</g>\n",
       "<!-- 1424914938816&#45;&gt;1424915011376* -->\n",
       "<g id=\"edge7\" class=\"edge\">\n",
       "<title>1424914938816&#45;&gt;1424915011376*</title>\n",
       "<path fill=\"none\" stroke=\"black\" d=\"M200.21,-128.5C209.2,-128.5 217.86,-128.5 225.7,-128.5\"/>\n",
       "<polygon fill=\"black\" stroke=\"black\" points=\"225.85,-132 235.85,-128.5 225.85,-125 225.85,-132\"/>\n",
       "</g>\n",
       "<!-- 1424915018960 -->\n",
       "<g id=\"node4\" class=\"node\">\n",
       "<title>1424915018960</title>\n",
       "<polygon fill=\"none\" stroke=\"black\" points=\"328.5,-55.5 328.5,-91.5 543.5,-91.5 543.5,-55.5 328.5,-55.5\"/>\n",
       "<text text-anchor=\"middle\" x=\"355\" y=\"-69.8\" font-family=\"Times New Roman,serif\" font-size=\"14.00\">x2*w2</text>\n",
       "<polyline fill=\"none\" stroke=\"black\" points=\"381.5,-55.5 381.5,-91.5 \"/>\n",
       "<text text-anchor=\"middle\" x=\"421.5\" y=\"-69.8\" font-family=\"Times New Roman,serif\" font-size=\"14.00\">data 0.0000</text>\n",
       "<polyline fill=\"none\" stroke=\"black\" points=\"461.5,-55.5 461.5,-91.5 \"/>\n",
       "<text text-anchor=\"middle\" x=\"502.5\" y=\"-69.8\" font-family=\"Times New Roman,serif\" font-size=\"14.00\">grad 0.5000</text>\n",
       "</g>\n",
       "<!-- 1424915015600+ -->\n",
       "<g id=\"node11\" class=\"node\">\n",
       "<title>1424915015600+</title>\n",
       "<ellipse fill=\"none\" stroke=\"black\" cx=\"609\" cy=\"-100.5\" rx=\"27\" ry=\"18\"/>\n",
       "<text text-anchor=\"middle\" x=\"609\" y=\"-96.8\" font-family=\"Times New Roman,serif\" font-size=\"14.00\">+</text>\n",
       "</g>\n",
       "<!-- 1424915018960&#45;&gt;1424915015600+ -->\n",
       "<g id=\"edge10\" class=\"edge\">\n",
       "<title>1424915018960&#45;&gt;1424915015600+</title>\n",
       "<path fill=\"none\" stroke=\"black\" d=\"M543.84,-90.37C554.01,-91.98 563.76,-93.51 572.44,-94.89\"/>\n",
       "<polygon fill=\"black\" stroke=\"black\" points=\"572.05,-98.37 582.47,-96.47 573.14,-91.45 572.05,-98.37\"/>\n",
       "</g>\n",
       "<!-- 1424915018960*&#45;&gt;1424915018960 -->\n",
       "<g id=\"edge1\" class=\"edge\">\n",
       "<title>1424915018960*&#45;&gt;1424915018960</title>\n",
       "<path fill=\"none\" stroke=\"black\" d=\"M290.34,-73.5C298.51,-73.5 308.08,-73.5 318.36,-73.5\"/>\n",
       "<polygon fill=\"black\" stroke=\"black\" points=\"318.39,-77 328.39,-73.5 318.39,-70 318.39,-77\"/>\n",
       "</g>\n",
       "<!-- 1424895999248 -->\n",
       "<g id=\"node6\" class=\"node\">\n",
       "<title>1424895999248</title>\n",
       "<polygon fill=\"none\" stroke=\"black\" points=\"4,-0.5 4,-36.5 196,-36.5 196,-0.5 4,-0.5\"/>\n",
       "<text text-anchor=\"middle\" x=\"19\" y=\"-14.8\" font-family=\"Times New Roman,serif\" font-size=\"14.00\">x2</text>\n",
       "<polyline fill=\"none\" stroke=\"black\" points=\"34,-0.5 34,-36.5 \"/>\n",
       "<text text-anchor=\"middle\" x=\"74\" y=\"-14.8\" font-family=\"Times New Roman,serif\" font-size=\"14.00\">data 0.0000</text>\n",
       "<polyline fill=\"none\" stroke=\"black\" points=\"114,-0.5 114,-36.5 \"/>\n",
       "<text text-anchor=\"middle\" x=\"155\" y=\"-14.8\" font-family=\"Times New Roman,serif\" font-size=\"14.00\">grad 0.5000</text>\n",
       "</g>\n",
       "<!-- 1424895999248&#45;&gt;1424915018960* -->\n",
       "<g id=\"edge14\" class=\"edge\">\n",
       "<title>1424895999248&#45;&gt;1424915018960*</title>\n",
       "<path fill=\"none\" stroke=\"black\" d=\"M169.28,-36.5C179.65,-39.61 190.16,-42.98 200,-46.5 210.28,-50.17 221.28,-54.74 231.11,-59.07\"/>\n",
       "<polygon fill=\"black\" stroke=\"black\" points=\"229.93,-62.37 240.48,-63.27 232.79,-55.99 229.93,-62.37\"/>\n",
       "</g>\n",
       "<!-- 1424915011376 -->\n",
       "<g id=\"node7\" class=\"node\">\n",
       "<title>1424915011376</title>\n",
       "<polygon fill=\"none\" stroke=\"black\" points=\"326,-110.5 326,-146.5 546,-146.5 546,-110.5 326,-110.5\"/>\n",
       "<text text-anchor=\"middle\" x=\"352.5\" y=\"-124.8\" font-family=\"Times New Roman,serif\" font-size=\"14.00\">x1*w1</text>\n",
       "<polyline fill=\"none\" stroke=\"black\" points=\"379,-110.5 379,-146.5 \"/>\n",
       "<text text-anchor=\"middle\" x=\"421.5\" y=\"-124.8\" font-family=\"Times New Roman,serif\" font-size=\"14.00\">data &#45;6.0000</text>\n",
       "<polyline fill=\"none\" stroke=\"black\" points=\"464,-110.5 464,-146.5 \"/>\n",
       "<text text-anchor=\"middle\" x=\"505\" y=\"-124.8\" font-family=\"Times New Roman,serif\" font-size=\"14.00\">grad 0.5000</text>\n",
       "</g>\n",
       "<!-- 1424915011376&#45;&gt;1424915015600+ -->\n",
       "<g id=\"edge6\" class=\"edge\">\n",
       "<title>1424915011376&#45;&gt;1424915015600+</title>\n",
       "<path fill=\"none\" stroke=\"black\" d=\"M546.27,-110.61C555.64,-109.07 564.6,-107.61 572.65,-106.29\"/>\n",
       "<polygon fill=\"black\" stroke=\"black\" points=\"573.35,-109.72 582.65,-104.65 572.22,-102.81 573.35,-109.72\"/>\n",
       "</g>\n",
       "<!-- 1424915011376*&#45;&gt;1424915011376 -->\n",
       "<g id=\"edge2\" class=\"edge\">\n",
       "<title>1424915011376*&#45;&gt;1424915011376</title>\n",
       "<path fill=\"none\" stroke=\"black\" d=\"M290.34,-128.5C297.77,-128.5 306.37,-128.5 315.6,-128.5\"/>\n",
       "<polygon fill=\"black\" stroke=\"black\" points=\"315.84,-132 325.84,-128.5 315.84,-125 315.84,-132\"/>\n",
       "</g>\n",
       "<!-- 1424914927488 -->\n",
       "<g id=\"node9\" class=\"node\">\n",
       "<title>1424914927488</title>\n",
       "<polygon fill=\"none\" stroke=\"black\" points=\"716,-27.5 716,-63.5 901,-63.5 901,-27.5 716,-27.5\"/>\n",
       "<text text-anchor=\"middle\" x=\"727.5\" y=\"-41.8\" font-family=\"Times New Roman,serif\" font-size=\"14.00\">b</text>\n",
       "<polyline fill=\"none\" stroke=\"black\" points=\"739,-27.5 739,-63.5 \"/>\n",
       "<text text-anchor=\"middle\" x=\"779\" y=\"-41.8\" font-family=\"Times New Roman,serif\" font-size=\"14.00\">data 6.8814</text>\n",
       "<polyline fill=\"none\" stroke=\"black\" points=\"819,-27.5 819,-63.5 \"/>\n",
       "<text text-anchor=\"middle\" x=\"860\" y=\"-41.8\" font-family=\"Times New Roman,serif\" font-size=\"14.00\">grad 0.5000</text>\n",
       "</g>\n",
       "<!-- 1424915010512+ -->\n",
       "<g id=\"node15\" class=\"node\">\n",
       "<title>1424915010512+</title>\n",
       "<ellipse fill=\"none\" stroke=\"black\" cx=\"1008\" cy=\"-72.5\" rx=\"27\" ry=\"18\"/>\n",
       "<text text-anchor=\"middle\" x=\"1008\" y=\"-68.8\" font-family=\"Times New Roman,serif\" font-size=\"14.00\">+</text>\n",
       "</g>\n",
       "<!-- 1424914927488&#45;&gt;1424915010512+ -->\n",
       "<g id=\"edge8\" class=\"edge\">\n",
       "<title>1424914927488&#45;&gt;1424915010512+</title>\n",
       "<path fill=\"none\" stroke=\"black\" d=\"M901.02,-58.01C926,-61.43 951.59,-64.93 971.37,-67.63\"/>\n",
       "<polygon fill=\"black\" stroke=\"black\" points=\"971.05,-71.12 981.43,-69.01 972,-64.18 971.05,-71.12\"/>\n",
       "</g>\n",
       "<!-- 1424915015600 -->\n",
       "<g id=\"node10\" class=\"node\">\n",
       "<title>1424915015600</title>\n",
       "<polygon fill=\"none\" stroke=\"black\" points=\"672,-82.5 672,-118.5 945,-118.5 945,-82.5 672,-82.5\"/>\n",
       "<text text-anchor=\"middle\" x=\"725\" y=\"-96.8\" font-family=\"Times New Roman,serif\" font-size=\"14.00\">x1*w1 + x2*w2</text>\n",
       "<polyline fill=\"none\" stroke=\"black\" points=\"778,-82.5 778,-118.5 \"/>\n",
       "<text text-anchor=\"middle\" x=\"820.5\" y=\"-96.8\" font-family=\"Times New Roman,serif\" font-size=\"14.00\">data &#45;6.0000</text>\n",
       "<polyline fill=\"none\" stroke=\"black\" points=\"863,-82.5 863,-118.5 \"/>\n",
       "<text text-anchor=\"middle\" x=\"904\" y=\"-96.8\" font-family=\"Times New Roman,serif\" font-size=\"14.00\">grad 0.5000</text>\n",
       "</g>\n",
       "<!-- 1424915015600&#45;&gt;1424915010512+ -->\n",
       "<g id=\"edge12\" class=\"edge\">\n",
       "<title>1424915015600&#45;&gt;1424915010512+</title>\n",
       "<path fill=\"none\" stroke=\"black\" d=\"M936.53,-82.49C949.09,-80.71 960.99,-79.02 971.3,-77.56\"/>\n",
       "<polygon fill=\"black\" stroke=\"black\" points=\"972.03,-80.99 981.44,-76.12 971.05,-74.06 972.03,-80.99\"/>\n",
       "</g>\n",
       "<!-- 1424915015600+&#45;&gt;1424915015600 -->\n",
       "<g id=\"edge3\" class=\"edge\">\n",
       "<title>1424915015600+&#45;&gt;1424915015600</title>\n",
       "<path fill=\"none\" stroke=\"black\" d=\"M636.23,-100.5C643.7,-100.5 652.41,-100.5 661.87,-100.5\"/>\n",
       "<polygon fill=\"black\" stroke=\"black\" points=\"661.98,-104 671.98,-100.5 661.98,-97 661.98,-104\"/>\n",
       "</g>\n",
       "<!-- 1424915020736 -->\n",
       "<g id=\"node12\" class=\"node\">\n",
       "<title>1424915020736</title>\n",
       "<polygon fill=\"none\" stroke=\"black\" points=\"1382,-54.5 1382,-90.5 1567,-90.5 1567,-54.5 1382,-54.5\"/>\n",
       "<text text-anchor=\"middle\" x=\"1393.5\" y=\"-68.8\" font-family=\"Times New Roman,serif\" font-size=\"14.00\">o</text>\n",
       "<polyline fill=\"none\" stroke=\"black\" points=\"1405,-54.5 1405,-90.5 \"/>\n",
       "<text text-anchor=\"middle\" x=\"1445\" y=\"-68.8\" font-family=\"Times New Roman,serif\" font-size=\"14.00\">data 0.7071</text>\n",
       "<polyline fill=\"none\" stroke=\"black\" points=\"1485,-54.5 1485,-90.5 \"/>\n",
       "<text text-anchor=\"middle\" x=\"1526\" y=\"-68.8\" font-family=\"Times New Roman,serif\" font-size=\"14.00\">grad 1.0000</text>\n",
       "</g>\n",
       "<!-- 1424915020736tanh -->\n",
       "<g id=\"node13\" class=\"node\">\n",
       "<title>1424915020736tanh</title>\n",
       "<ellipse fill=\"none\" stroke=\"black\" cx=\"1319\" cy=\"-72.5\" rx=\"27\" ry=\"18\"/>\n",
       "<text text-anchor=\"middle\" x=\"1319\" y=\"-68.8\" font-family=\"Times New Roman,serif\" font-size=\"14.00\">tanh</text>\n",
       "</g>\n",
       "<!-- 1424915020736tanh&#45;&gt;1424915020736 -->\n",
       "<g id=\"edge4\" class=\"edge\">\n",
       "<title>1424915020736tanh&#45;&gt;1424915020736</title>\n",
       "<path fill=\"none\" stroke=\"black\" d=\"M1346.04,-72.5C1353.58,-72.5 1362.3,-72.5 1371.57,-72.5\"/>\n",
       "<polygon fill=\"black\" stroke=\"black\" points=\"1371.81,-76 1381.81,-72.5 1371.81,-69 1371.81,-76\"/>\n",
       "</g>\n",
       "<!-- 1424915010512 -->\n",
       "<g id=\"node14\" class=\"node\">\n",
       "<title>1424915010512</title>\n",
       "<polygon fill=\"none\" stroke=\"black\" points=\"1071,-54.5 1071,-90.5 1256,-90.5 1256,-54.5 1071,-54.5\"/>\n",
       "<text text-anchor=\"middle\" x=\"1082.5\" y=\"-68.8\" font-family=\"Times New Roman,serif\" font-size=\"14.00\">n</text>\n",
       "<polyline fill=\"none\" stroke=\"black\" points=\"1094,-54.5 1094,-90.5 \"/>\n",
       "<text text-anchor=\"middle\" x=\"1134\" y=\"-68.8\" font-family=\"Times New Roman,serif\" font-size=\"14.00\">data 0.8814</text>\n",
       "<polyline fill=\"none\" stroke=\"black\" points=\"1174,-54.5 1174,-90.5 \"/>\n",
       "<text text-anchor=\"middle\" x=\"1215\" y=\"-68.8\" font-family=\"Times New Roman,serif\" font-size=\"14.00\">grad 0.5000</text>\n",
       "</g>\n",
       "<!-- 1424915010512&#45;&gt;1424915020736tanh -->\n",
       "<g id=\"edge9\" class=\"edge\">\n",
       "<title>1424915010512&#45;&gt;1424915020736tanh</title>\n",
       "<path fill=\"none\" stroke=\"black\" d=\"M1256.01,-72.5C1265.01,-72.5 1273.74,-72.5 1281.66,-72.5\"/>\n",
       "<polygon fill=\"black\" stroke=\"black\" points=\"1281.91,-76 1291.91,-72.5 1281.91,-69 1281.91,-76\"/>\n",
       "</g>\n",
       "<!-- 1424915010512+&#45;&gt;1424915010512 -->\n",
       "<g id=\"edge5\" class=\"edge\">\n",
       "<title>1424915010512+&#45;&gt;1424915010512</title>\n",
       "<path fill=\"none\" stroke=\"black\" d=\"M1035.04,-72.5C1042.58,-72.5 1051.3,-72.5 1060.57,-72.5\"/>\n",
       "<polygon fill=\"black\" stroke=\"black\" points=\"1060.81,-76 1070.81,-72.5 1060.81,-69 1060.81,-76\"/>\n",
       "</g>\n",
       "</g>\n",
       "</svg>\n"
      ],
      "text/plain": [
       "<graphviz.graphs.Digraph at 0x14bc269d4c0>"
      ]
     },
     "execution_count": 82,
     "metadata": {},
     "output_type": "execute_result"
    }
   ],
   "source": [
    "draw_dot(o)"
   ]
  },
  {
   "cell_type": "code",
   "execution_count": null,
   "metadata": {},
   "outputs": [],
   "source": [
    "#do not run the below  two cells(those two are partially automated). Because Now we've already implemented the fully automated backpropagation by implementing a \n",
    "#function backward(self) in the Value class hiding the automating process.\n",
    "\n",
    "o.backward()"
   ]
  },
  {
   "cell_type": "code",
   "execution_count": 73,
   "metadata": {},
   "outputs": [],
   "source": [
    "#This is Automatic Backpropagation . First you should check the manual backpropagation for this Neural network and then try this \n",
    "\n",
    "#Automatic Backpropagation by calling the _backward function that we defined:\n",
    "\n",
    "o.grad = 1.0 #this should be set as base case to 1.0. Because initially the grad for o or the final output is set to zero in the class.If\n",
    "            #we do not set this to 1.o , 0 will be backpropagated to every grad , making every grad to 0. \n",
    "# Call the backward method on output node\n",
    "o._backward()"
   ]
  },
  {
   "cell_type": "code",
   "execution_count": 74,
   "metadata": {},
   "outputs": [],
   "source": [
    "# Now we need to call backward on all nodes in reverse topological order\n",
    "n._backward()\n",
    "\n",
    "b._backward()\n",
    "x1w1x2w2._backward()\n",
    "x1w1._backward()\n",
    "x2w2._backward()\n"
   ]
  },
  {
   "cell_type": "markdown",
   "metadata": {},
   "source": [
    "## Now lets do manual backpropagation again for this network and update each of the gradient values of the nodes. We will again use the concept of local derivatives and chain rule of differentiation again.\n",
    "\n",
    "### So before begin , some important notes : \n",
    "- in the neural network setting , we'll be really interested in the derivative of the weights(w1, w2) and bias(b) not the derivative of x1 , x2. because in the optimization stage , we'll changing these weights and biases to minimize the loss function L , not the input data x1 , x2. So we'll be interested in the derivative of the loss function L with respect to the weights and biases of the network.\n",
    "\n",
    "- Here we are having only one neuron , but typically in a neural network , there will be many neurons and many layers connected with each other.\n"
   ]
  },
  {
   "cell_type": "markdown",
   "metadata": {},
   "source": [
    "### Manual Backpropagation\n",
    "**Lets start with the end - o** \n",
    "- we always know the gradient of the loss function with respect to o , which is 1.0 <br>\n",
    "**do/do** = 1.0\n",
    "\n",
    " **Then backpropagate through tanh.**\n",
    "To backpropagate through tanh , we need to know the local derivative of tanh.\n",
    "tanh(x) = (e^x - e^-x) / (e^x + e^-x)\n",
    "=> dtanh(x)/dx = 1 - tanh(x)^2\n",
    "\n",
    "o = tanh(n)\n",
    "do/dn = 1 - tanh(n)^2 = 1 - o^2 \n",
    "\n",
    "we know , o.data = .7071\n",
    "=> do/dn = 1 - .7071^2 = 1 - .5 = .5\n",
    "\n",
    "so the local derivative of tanh is .5\n",
    "\n",
    "**Then backpropagate** \n",
    "'+' is going to distribute the gradient to both the inputs.\n",
    "so do/d(x1w1 + x2w2) = 0.5\n",
    "and do/d(b) = 0.5\n",
    "\n",
    "**then backpropagate**\n",
    "again '+' is going to distribute the gradient to both the inputs.\n",
    "so do/d(x1w1) = 0.5\n",
    "and do/d(x2w2) = 0.5\n",
    "\n",
    "**Then backpropagate**\n",
    "do/dx1 = do/dx1w1 * dx1w1/dx1 = .5*w1 = .5*-3 = -1.5\n",
    "do/dw1 = do/dx1w1 * dx1w1/dw1 = .5*x2= 1.0\n",
    "\n",
    "do/dx2 = do/dx2w2 * dx2w2/dx2 = .5*w2 = .5*1 = .5\n",
    "do/dw2 = do/dx2w2 * dx2w2/dw2 = .5*0 = 0\n",
    "\n",
    "\n",
    "\n",
    "\n",
    "\n",
    "\n"
   ]
  },
  {
   "cell_type": "code",
   "execution_count": null,
   "metadata": {},
   "outputs": [],
   "source": [
    "#setting the gradient values from manual backpropagation \n",
    "o.grad = 1.0"
   ]
  },
  {
   "cell_type": "code",
   "execution_count": null,
   "metadata": {},
   "outputs": [],
   "source": [
    "#then backpropagate\n",
    "n.grad = 0.5"
   ]
  },
  {
   "cell_type": "code",
   "execution_count": null,
   "metadata": {},
   "outputs": [],
   "source": [
    "#then backpropagate \n",
    "x1w1x2w2.grad=.5\n",
    "b.grad = .5\n"
   ]
  },
  {
   "cell_type": "code",
   "execution_count": null,
   "metadata": {},
   "outputs": [],
   "source": [
    "#then backpropagate\n",
    "x1w1.grad = .5\n",
    "x2w2.grad = .5"
   ]
  },
  {
   "cell_type": "code",
   "execution_count": null,
   "metadata": {},
   "outputs": [],
   "source": [
    "x2.grad = w2.data*x2w2.grad\n",
    "w2.grad = x2.data*x2w2.grad"
   ]
  },
  {
   "cell_type": "code",
   "execution_count": null,
   "metadata": {},
   "outputs": [],
   "source": [
    "x1.grad = w1.data*x1w1.grad\n",
    "w1.grad = x1.data*x1w1.grad"
   ]
  },
  {
   "cell_type": "markdown",
   "metadata": {},
   "source": []
  },
  {
   "cell_type": "markdown",
   "metadata": {},
   "source": []
  }
 ],
 "metadata": {
  "kernelspec": {
   "display_name": "base",
   "language": "python",
   "name": "python3"
  },
  "language_info": {
   "codemirror_mode": {
    "name": "ipython",
    "version": 3
   },
   "file_extension": ".py",
   "mimetype": "text/x-python",
   "name": "python",
   "nbconvert_exporter": "python",
   "pygments_lexer": "ipython3",
   "version": "3.12.7"
  }
 },
 "nbformat": 4,
 "nbformat_minor": 2
}
